{
 "cells": [
  {
   "cell_type": "markdown",
   "id": "685a3506-a784-41d0-9b90-5fc79787962f",
   "metadata": {
    "tags": []
   },
   "source": [
    "# <b> Single edge detection </b>\n",
    "In this part we are going to detect a single edge in a image(code is able to detect multiple edges but since the input is generated inside the code it has only one edge for now)"
   ]
  },
  {
   "cell_type": "code",
   "execution_count": 1,
   "id": "a2cf509e-7da0-439a-a90c-3b1c9be271b3",
   "metadata": {},
   "outputs": [],
   "source": [
    "import tensorflow as tf\n",
    "import numpy as np\n",
    "import matplotlib.pyplot as plt"
   ]
  },
  {
   "cell_type": "code",
   "execution_count": 136,
   "id": "32dcc956-5c23-482c-bf68-6f35de00aee4",
   "metadata": {},
   "outputs": [],
   "source": [
    "def single_edge_detection(shape_:int, order:str='l2d', orient:str='v') -> None:\n",
    "    '''\n",
    "    shape_ has to be an even integer\n",
    "    \n",
    "    order: str\n",
    "    'l2d': light to dark\n",
    "    'd2l': dark to light\n",
    "    \n",
    "    orient: str\n",
    "    'v': vertival edge detection\n",
    "    'h': horizontal edge detection\n",
    "    \n",
    "    '''\n",
    "    if orient == 'v':\n",
    "        low = tf.constant(0, shape=(shape_, shape_//2), dtype='int32')\n",
    "        high = tf.constant(255, shape=(shape_, shape_//2), dtype='int32')\n",
    "        if order == 'l2d':\n",
    "            input_image = tf.concat((low, high), 1)\n",
    "        elif order == 'd2l':\n",
    "            input_image = tf.concat((high, low), 1)\n",
    "            \n",
    "    elif orient == 'h':\n",
    "        low = tf.constant(0, shape=(shape_//2, shape_), dtype='int32')\n",
    "        high = tf.constant(255, shape=(shape_//2, shape_), dtype='int32')\n",
    "        if order == 'l2d':\n",
    "            input_image = tf.concat((low, high), 0)\n",
    "        elif order == 'd2l':\n",
    "            input_image = tf.concat((high, low), 0)\n",
    "    \n",
    "    fig, axs = plt.subplots(1,2)\n",
    "    \n",
    "    axs[0].imshow(tf.squeeze(input_image).numpy(), cmap='binary')\n",
    "    axs[0].axis('off')\n",
    "    axs[0].set(title='original')\n",
    "    \n",
    "    vertical_filter_ = tf.constant([[1,0,-1],\n",
    "                                    [1,0,-1],\n",
    "                                    [1,0,-1]], dtype='int32')\n",
    "    \n",
    "    horizontal_filter = tf.constant([[1,1,1],\n",
    "                                     [0,0,0],\n",
    "                                     [-1,-1,-1]], dtype='int32')\n",
    "    \n",
    "    vertical_edge = tf.nn.convolution(tf.reshape(input_image, [1,shape_,shape_,1]), tf.reshape(vertical_filter_, [3,3,1,1]))\n",
    "    horizontal_edge = tf.nn.convolution(tf.reshape(input_image, [1,shape_,shape_,1]), tf.reshape(horizontal_filter, [3,3,1,1]))\n",
    "    \n",
    "    if orient == 'v':\n",
    "        output_image = tf.squeeze(vertical_edge).numpy()\n",
    "    elif orient == 'h':\n",
    "        output_image = tf.squeeze(horizontal_edge).numpy()\n",
    "    \n",
    "    axs[1].imshow(output_image, cmap='binary')\n",
    "    axs[1].axis('off')\n",
    "    axs[1].set(title='edge')\n",
    "    \n",
    "    fig.patch.set(facecolor='gray')"
   ]
  },
  {
   "cell_type": "code",
   "execution_count": 137,
   "id": "fdde10bf-64b7-4a49-a352-eaaf75e486c3",
   "metadata": {},
   "outputs": [
    {
     "data": {
      "image/png": "[encoded data removed]",
      "text/plain": [
       "<Figure size 432x288 with 2 Axes>"
      ]
     },
     "metadata": {},
     "output_type": "display_data"
    }
   ],
   "source": [
    "single_edge_detection(100, order='l2d', orient='h')"
   ]
  },
  {
   "cell_type": "code",
   "execution_count": 139,
   "id": "32e6b60c-b464-45a4-8bde-28787228f1f4",
   "metadata": {},
   "outputs": [
    {
     "data": {
      "image/png": "[encoded data removed]",
      "text/plain": [
       "<Figure size 432x288 with 2 Axes>"
      ]
     },
     "metadata": {},
     "output_type": "display_data"
    }
   ],
   "source": [
    "single_edge_detection(200, order='d2l')"
   ]
  },
  {
   "cell_type": "code",
   "execution_count": null,
   "id": "7650b332-91d2-4230-946b-ee4cda7cd3ee",
   "metadata": {},
   "outputs": [],
   "source": []
  }
 ],
 "metadata": {
  "kernelspec": {
   "display_name": "Python 3",
   "language": "python",
   "name": "python3"
  },
  "language_info": {
   "codemirror_mode": {
    "name": "ipython",
    "version": 3
   },
   "file_extension": ".py",
   "mimetype": "text/x-python",
   "name": "python",
   "nbconvert_exporter": "python",
   "pygments_lexer": "ipython3",
   "version": "3.9.5"
  }
 },
 "nbformat": 4,
 "nbformat_minor": 5
}
